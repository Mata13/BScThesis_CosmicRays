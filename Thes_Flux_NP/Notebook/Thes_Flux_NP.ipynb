{
 "cells": [
  {
   "cell_type": "markdown",
   "id": "8604e484-ea7d-4490-9ac3-62cd04273972",
   "metadata": {},
   "source": [
    "<font color='darkorange'>\n",
    "<font size=6> \n",
    "\n",
    "**Simulacion del Flujo de Rayos Cosmicos en CORSIKA usando el Cluster LARCAD**"
   ]
  },
  {
   "cell_type": "markdown",
   "id": "4f1a4982-0462-429c-9b32-9b4baf517eb4",
   "metadata": {},
   "source": [
    "<font color = 'limegreen'>\n",
    "<font size = 5>\n",
    "En este notebook se analizan los datos obtenidos de la simulacion del flujo de RC usando el programa de CORSIKA en el cluster de LARCAD,\n",
    "para ver como cambia el flujo a medida que subimos en altitud desde el nivel del mar hasta 4500 msnm."
   ]
  },
  {
   "cell_type": "markdown",
   "id": "daac6f5a-2000-4cdc-bbfb-3cd9f243efd0",
   "metadata": {},
   "source": [
    "<font color = 'slateblue'>\n",
    "<font size = 3>\n",
    "Datos utiles para la simulacion:\n",
    "\n",
    "- Particulas primarias (clave CORSIKA):\n",
    "\n",
    "    - Proton: 14\n",
    "    - Nucleo de helio: 402\n",
    "    - Nucleo de Fe: 5626\n",
    "\n",
    "Observacion: el programa de CORSIKA se corre en el cluster, los archivos generados en la simulacion se analizan usando Python.\n",
    "Se van a generar las graficas necesarias para analizar los resultados de esta tesis."
   ]
  },
  {
   "cell_type": "markdown",
   "id": "e14d7198-e4cc-4987-a774-0321b19fcb6e",
   "metadata": {},
   "source": [
    "<font color = 'deepskyblue'>\n",
    "<font size = 5>\n",
    "Librerías"
   ]
  },
  {
   "cell_type": "code",
   "execution_count": 3,
   "id": "7ffd074a-7f47-4ceb-9a38-a5c9a9d811d7",
   "metadata": {},
   "outputs": [],
   "source": [
    "# Importamos las ibrerias que ocupamos\n",
    "import pandas as pd\n",
    "import openpyxl\n",
    "import matplotlib.pyplot as plt"
   ]
  },
  {
   "cell_type": "code",
   "execution_count": null,
   "id": "f5704446-8a28-4642-a9f5-771bc9ce64f8",
   "metadata": {},
   "outputs": [],
   "source": []
  }
 ],
 "metadata": {
  "kernelspec": {
   "display_name": "Python 3 (ipykernel)",
   "language": "python",
   "name": "python3"
  },
  "language_info": {
   "codemirror_mode": {
    "name": "ipython",
    "version": 3
   },
   "file_extension": ".py",
   "mimetype": "text/x-python",
   "name": "python",
   "nbconvert_exporter": "python",
   "pygments_lexer": "ipython3",
   "version": "3.9.18"
  }
 },
 "nbformat": 4,
 "nbformat_minor": 5
}
